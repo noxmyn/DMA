{
 "cells": [
  {
   "cell_type": "code",
   "execution_count": 1,
   "id": "5e801146",
   "metadata": {},
   "outputs": [],
   "source": [
    "#core data lib\n",
    "import pandas as pd\n",
    "import pandasql as ps"
   ]
  },
  {
   "cell_type": "code",
   "execution_count": 2,
   "id": "233afbdf",
   "metadata": {},
   "outputs": [],
   "source": [
    "#https://ourworldindata.org/\n",
    "#https://github.com/owid/covid-19-data/tree/master/public/data/\n",
    "df = pd.read_csv('https://covid.ourworldindata.org/data/owid-covid-data.csv')"
   ]
  },
  {
   "cell_type": "code",
   "execution_count": 3,
   "id": "06f606aa",
   "metadata": {
    "scrolled": false
   },
   "outputs": [],
   "source": [
    "#df.head(10) #continent"
   ]
  },
  {
   "cell_type": "code",
   "execution_count": 4,
   "id": "8338a5d0",
   "metadata": {},
   "outputs": [],
   "source": [
    "df = df.sort_values(by=['date'])\n",
    "df = df.reset_index()"
   ]
  },
  {
   "cell_type": "code",
   "execution_count": 66,
   "id": "17c1ac5e",
   "metadata": {},
   "outputs": [],
   "source": [
    "df2 = ps.sqldf('''select date, continent, location, new_cases from df where date>='2022-01-01' and total_cases>0 and location='Russia' order by date, new_cases''')"
   ]
  },
  {
   "cell_type": "code",
   "execution_count": 67,
   "id": "d2173708",
   "metadata": {
    "scrolled": true
   },
   "outputs": [
    {
     "data": {
      "text/html": [
       "<div>\n",
       "<style scoped>\n",
       "    .dataframe tbody tr th:only-of-type {\n",
       "        vertical-align: middle;\n",
       "    }\n",
       "\n",
       "    .dataframe tbody tr th {\n",
       "        vertical-align: top;\n",
       "    }\n",
       "\n",
       "    .dataframe thead th {\n",
       "        text-align: right;\n",
       "    }\n",
       "</style>\n",
       "<table border=\"1\" class=\"dataframe\">\n",
       "  <thead>\n",
       "    <tr style=\"text-align: right;\">\n",
       "      <th></th>\n",
       "      <th>date</th>\n",
       "      <th>continent</th>\n",
       "      <th>location</th>\n",
       "      <th>new_cases</th>\n",
       "    </tr>\n",
       "  </thead>\n",
       "  <tbody>\n",
       "    <tr>\n",
       "      <th>0</th>\n",
       "      <td>1640995200</td>\n",
       "      <td>Europe</td>\n",
       "      <td>Russia</td>\n",
       "      <td>19606.0</td>\n",
       "    </tr>\n",
       "    <tr>\n",
       "      <th>1</th>\n",
       "      <td>1641081600</td>\n",
       "      <td>Europe</td>\n",
       "      <td>Russia</td>\n",
       "      <td>18088.0</td>\n",
       "    </tr>\n",
       "    <tr>\n",
       "      <th>2</th>\n",
       "      <td>1641168000</td>\n",
       "      <td>Europe</td>\n",
       "      <td>Russia</td>\n",
       "      <td>16193.0</td>\n",
       "    </tr>\n",
       "    <tr>\n",
       "      <th>3</th>\n",
       "      <td>1641254400</td>\n",
       "      <td>Europe</td>\n",
       "      <td>Russia</td>\n",
       "      <td>15760.0</td>\n",
       "    </tr>\n",
       "    <tr>\n",
       "      <th>4</th>\n",
       "      <td>1641340800</td>\n",
       "      <td>Europe</td>\n",
       "      <td>Russia</td>\n",
       "      <td>15632.0</td>\n",
       "    </tr>\n",
       "  </tbody>\n",
       "</table>\n",
       "</div>"
      ],
      "text/plain": [
       "         date continent location  new_cases\n",
       "0  1640995200    Europe   Russia    19606.0\n",
       "1  1641081600    Europe   Russia    18088.0\n",
       "2  1641168000    Europe   Russia    16193.0\n",
       "3  1641254400    Europe   Russia    15760.0\n",
       "4  1641340800    Europe   Russia    15632.0"
      ]
     },
     "execution_count": 67,
     "metadata": {},
     "output_type": "execute_result"
    }
   ],
   "source": [
    "#NaN to 0\n",
    "df2['new_cases'] = df2['new_cases'].fillna(0)\n",
    "\n",
    "#datetime to int(Epoch)\n",
    "df2['date'] = pd.to_datetime(df2['date'])\n",
    "df2['date'] = (pd.to_numeric(df2['date'])/1000000000).astype(int)\n",
    "\n",
    "#text to string\n",
    "df2['continent'] = df2['continent'].astype(str)\n",
    "df2['location'] = df2['location'].astype(str)\n"
   ]
  },
  {
   "cell_type": "code",
   "execution_count": 93,
   "id": "b281db14",
   "metadata": {},
   "outputs": [
    {
     "data": {
      "text/html": [
       "<div>\n",
       "<style scoped>\n",
       "    .dataframe tbody tr th:only-of-type {\n",
       "        vertical-align: middle;\n",
       "    }\n",
       "\n",
       "    .dataframe tbody tr th {\n",
       "        vertical-align: top;\n",
       "    }\n",
       "\n",
       "    .dataframe thead th {\n",
       "        text-align: right;\n",
       "    }\n",
       "</style>\n",
       "<table border=\"1\" class=\"dataframe\">\n",
       "  <thead>\n",
       "    <tr style=\"text-align: right;\">\n",
       "      <th></th>\n",
       "      <th>date</th>\n",
       "      <th>continent</th>\n",
       "      <th>location</th>\n",
       "      <th>new_cases</th>\n",
       "    </tr>\n",
       "  </thead>\n",
       "  <tbody>\n",
       "    <tr>\n",
       "      <th>249</th>\n",
       "      <td>1662508800</td>\n",
       "      <td>Europe</td>\n",
       "      <td>Russia</td>\n",
       "      <td>47354.0</td>\n",
       "    </tr>\n",
       "    <tr>\n",
       "      <th>250</th>\n",
       "      <td>1662595200</td>\n",
       "      <td>Europe</td>\n",
       "      <td>Russia</td>\n",
       "      <td>49884.0</td>\n",
       "    </tr>\n",
       "    <tr>\n",
       "      <th>251</th>\n",
       "      <td>1662681600</td>\n",
       "      <td>Europe</td>\n",
       "      <td>Russia</td>\n",
       "      <td>51420.0</td>\n",
       "    </tr>\n",
       "    <tr>\n",
       "      <th>252</th>\n",
       "      <td>1662768000</td>\n",
       "      <td>Europe</td>\n",
       "      <td>Russia</td>\n",
       "      <td>52708.0</td>\n",
       "    </tr>\n",
       "    <tr>\n",
       "      <th>253</th>\n",
       "      <td>1662854400</td>\n",
       "      <td>Europe</td>\n",
       "      <td>Russia</td>\n",
       "      <td>52155.0</td>\n",
       "    </tr>\n",
       "  </tbody>\n",
       "</table>\n",
       "</div>"
      ],
      "text/plain": [
       "           date continent location  new_cases\n",
       "249  1662508800    Europe   Russia    47354.0\n",
       "250  1662595200    Europe   Russia    49884.0\n",
       "251  1662681600    Europe   Russia    51420.0\n",
       "252  1662768000    Europe   Russia    52708.0\n",
       "253  1662854400    Europe   Russia    52155.0"
      ]
     },
     "execution_count": 93,
     "metadata": {},
     "output_type": "execute_result"
    }
   ],
   "source": [
    "df2.tail(5)"
   ]
  },
  {
   "cell_type": "code",
   "execution_count": 68,
   "id": "73797239",
   "metadata": {},
   "outputs": [],
   "source": [
    "#import catboost as cb\n",
    "Y_train = df2['new_cases']#.head(10000)\n",
    "X_train = df2.loc[:, df2.columns !='new_cases']#.head(10000)\n",
    "\n",
    "cat_features = [1, 2]"
   ]
  },
  {
   "cell_type": "code",
   "execution_count": 69,
   "id": "917da3b1",
   "metadata": {},
   "outputs": [
    {
     "data": {
      "text/html": [
       "<div>\n",
       "<style scoped>\n",
       "    .dataframe tbody tr th:only-of-type {\n",
       "        vertical-align: middle;\n",
       "    }\n",
       "\n",
       "    .dataframe tbody tr th {\n",
       "        vertical-align: top;\n",
       "    }\n",
       "\n",
       "    .dataframe thead th {\n",
       "        text-align: right;\n",
       "    }\n",
       "</style>\n",
       "<table border=\"1\" class=\"dataframe\">\n",
       "  <thead>\n",
       "    <tr style=\"text-align: right;\">\n",
       "      <th></th>\n",
       "      <th>date</th>\n",
       "      <th>continent</th>\n",
       "      <th>location</th>\n",
       "    </tr>\n",
       "  </thead>\n",
       "  <tbody>\n",
       "    <tr>\n",
       "      <th>0</th>\n",
       "      <td>1640995200</td>\n",
       "      <td>Europe</td>\n",
       "      <td>Russia</td>\n",
       "    </tr>\n",
       "    <tr>\n",
       "      <th>1</th>\n",
       "      <td>1641081600</td>\n",
       "      <td>Europe</td>\n",
       "      <td>Russia</td>\n",
       "    </tr>\n",
       "    <tr>\n",
       "      <th>2</th>\n",
       "      <td>1641168000</td>\n",
       "      <td>Europe</td>\n",
       "      <td>Russia</td>\n",
       "    </tr>\n",
       "    <tr>\n",
       "      <th>3</th>\n",
       "      <td>1641254400</td>\n",
       "      <td>Europe</td>\n",
       "      <td>Russia</td>\n",
       "    </tr>\n",
       "    <tr>\n",
       "      <th>4</th>\n",
       "      <td>1641340800</td>\n",
       "      <td>Europe</td>\n",
       "      <td>Russia</td>\n",
       "    </tr>\n",
       "    <tr>\n",
       "      <th>...</th>\n",
       "      <td>...</td>\n",
       "      <td>...</td>\n",
       "      <td>...</td>\n",
       "    </tr>\n",
       "    <tr>\n",
       "      <th>249</th>\n",
       "      <td>1662508800</td>\n",
       "      <td>Europe</td>\n",
       "      <td>Russia</td>\n",
       "    </tr>\n",
       "    <tr>\n",
       "      <th>250</th>\n",
       "      <td>1662595200</td>\n",
       "      <td>Europe</td>\n",
       "      <td>Russia</td>\n",
       "    </tr>\n",
       "    <tr>\n",
       "      <th>251</th>\n",
       "      <td>1662681600</td>\n",
       "      <td>Europe</td>\n",
       "      <td>Russia</td>\n",
       "    </tr>\n",
       "    <tr>\n",
       "      <th>252</th>\n",
       "      <td>1662768000</td>\n",
       "      <td>Europe</td>\n",
       "      <td>Russia</td>\n",
       "    </tr>\n",
       "    <tr>\n",
       "      <th>253</th>\n",
       "      <td>1662854400</td>\n",
       "      <td>Europe</td>\n",
       "      <td>Russia</td>\n",
       "    </tr>\n",
       "  </tbody>\n",
       "</table>\n",
       "<p>254 rows × 3 columns</p>\n",
       "</div>"
      ],
      "text/plain": [
       "           date continent location\n",
       "0    1640995200    Europe   Russia\n",
       "1    1641081600    Europe   Russia\n",
       "2    1641168000    Europe   Russia\n",
       "3    1641254400    Europe   Russia\n",
       "4    1641340800    Europe   Russia\n",
       "..          ...       ...      ...\n",
       "249  1662508800    Europe   Russia\n",
       "250  1662595200    Europe   Russia\n",
       "251  1662681600    Europe   Russia\n",
       "252  1662768000    Europe   Russia\n",
       "253  1662854400    Europe   Russia\n",
       "\n",
       "[254 rows x 3 columns]"
      ]
     },
     "execution_count": 69,
     "metadata": {},
     "output_type": "execute_result"
    }
   ],
   "source": [
    "X_train\n",
    "#X_train['continent']"
   ]
  },
  {
   "cell_type": "code",
   "execution_count": 70,
   "id": "1d1934cb",
   "metadata": {},
   "outputs": [],
   "source": [
    "# Initialize data\n",
    "from catboost import Pool\n",
    "train_dataset = Pool(X_train, Y_train, cat_features)\n",
    "\n",
    "cat_features = [1, 2]"
   ]
  },
  {
   "cell_type": "code",
   "execution_count": 71,
   "id": "494362fd",
   "metadata": {},
   "outputs": [
    {
     "data": {
      "text/plain": [
       "1000"
      ]
     },
     "execution_count": 71,
     "metadata": {},
     "output_type": "execute_result"
    }
   ],
   "source": [
    "#limits\n",
    "limit_iterations = 10000\n",
    "limit_metric_period = int(limit_iterations/10)\n",
    "\n",
    "limit_metric_period"
   ]
  },
  {
   "cell_type": "code",
   "execution_count": 72,
   "id": "5737ac14",
   "metadata": {},
   "outputs": [
    {
     "name": "stdout",
     "output_type": "stream",
     "text": [
      "0:\tlearn: 27484.5571946\ttotal: 1.64ms\tremaining: 16.4s\n",
      "1000:\tlearn: 27.1534122\ttotal: 222ms\tremaining: 1.99s\n",
      "2000:\tlearn: 2.9879401\ttotal: 416ms\tremaining: 1.66s\n",
      "3000:\tlearn: 0.3571084\ttotal: 611ms\tremaining: 1.43s\n",
      "4000:\tlearn: 0.0414798\ttotal: 805ms\tremaining: 1.21s\n",
      "5000:\tlearn: 0.0049395\ttotal: 999ms\tremaining: 999ms\n",
      "6000:\tlearn: 0.0006021\ttotal: 1.19s\tremaining: 795ms\n",
      "7000:\tlearn: 0.0000703\ttotal: 1.39s\tremaining: 594ms\n",
      "8000:\tlearn: 0.0000087\ttotal: 1.58s\tremaining: 395ms\n",
      "9000:\tlearn: 0.0000011\ttotal: 1.77s\tremaining: 197ms\n",
      "9999:\tlearn: 0.0000001\ttotal: 1.97s\tremaining: 0us\n"
     ]
    },
    {
     "data": {
      "text/plain": [
       "<catboost.core.CatBoostRegressor at 0x7f9b5b804880>"
      ]
     },
     "execution_count": 72,
     "metadata": {},
     "output_type": "execute_result"
    }
   ],
   "source": [
    "#import catboost\n",
    "from catboost import CatBoostRegressor\n",
    "\n",
    "# Initialize CatBoostRegressor\n",
    "model = CatBoostRegressor(iterations=limit_iterations,\n",
    "                          learning_rate=1,\n",
    "                          depth=3)\n",
    "# Fit model\n",
    "model.fit(train_dataset, metric_period=limit_metric_period) #, plot='true'\n"
   ]
  },
  {
   "cell_type": "code",
   "execution_count": 121,
   "id": "91a7bfa7",
   "metadata": {},
   "outputs": [
    {
     "data": {
      "text/html": [
       "<div>\n",
       "<style scoped>\n",
       "    .dataframe tbody tr th:only-of-type {\n",
       "        vertical-align: middle;\n",
       "    }\n",
       "\n",
       "    .dataframe tbody tr th {\n",
       "        vertical-align: top;\n",
       "    }\n",
       "\n",
       "    .dataframe thead th {\n",
       "        text-align: right;\n",
       "    }\n",
       "</style>\n",
       "<table border=\"1\" class=\"dataframe\">\n",
       "  <thead>\n",
       "    <tr style=\"text-align: right;\">\n",
       "      <th></th>\n",
       "      <th>date</th>\n",
       "      <th>continent</th>\n",
       "      <th>location</th>\n",
       "    </tr>\n",
       "  </thead>\n",
       "  <tbody>\n",
       "    <tr>\n",
       "      <th>0</th>\n",
       "      <td>1662940800</td>\n",
       "      <td>Europe</td>\n",
       "      <td>Russia</td>\n",
       "    </tr>\n",
       "  </tbody>\n",
       "</table>\n",
       "</div>"
      ],
      "text/plain": [
       "         date continent location\n",
       "0  1662940800    Europe   Russia"
      ]
     },
     "execution_count": 121,
     "metadata": {},
     "output_type": "execute_result"
    }
   ],
   "source": [
    "pedict_df = df2.loc[:, df2.columns !='new_cases'].tail(1)#+86400\n",
    "pedict_df['date'] = pedict_df['date']+86400\n",
    "pedict_df.reset_index(drop=True, inplace=True)\n",
    "pedict_df"
   ]
  },
  {
   "cell_type": "code",
   "execution_count": 128,
   "id": "decea436",
   "metadata": {},
   "outputs": [
    {
     "data": {
      "text/html": [
       "<div>\n",
       "<style scoped>\n",
       "    .dataframe tbody tr th:only-of-type {\n",
       "        vertical-align: middle;\n",
       "    }\n",
       "\n",
       "    .dataframe tbody tr th {\n",
       "        vertical-align: top;\n",
       "    }\n",
       "\n",
       "    .dataframe thead th {\n",
       "        text-align: right;\n",
       "    }\n",
       "</style>\n",
       "<table border=\"1\" class=\"dataframe\">\n",
       "  <thead>\n",
       "    <tr style=\"text-align: right;\">\n",
       "      <th></th>\n",
       "      <th>0</th>\n",
       "    </tr>\n",
       "  </thead>\n",
       "  <tbody>\n",
       "    <tr>\n",
       "      <th>0</th>\n",
       "      <td>52155.0</td>\n",
       "    </tr>\n",
       "  </tbody>\n",
       "</table>\n",
       "</div>"
      ],
      "text/plain": [
       "         0\n",
       "0  52155.0"
      ]
     },
     "execution_count": 128,
     "metadata": {},
     "output_type": "execute_result"
    }
   ],
   "source": [
    "# Get predictions\n",
    "preds = model.predict(pedict_df)\n",
    "#preds\n",
    "pd.DataFrame(preds)#.columns = ['new_cases']"
   ]
  },
  {
   "cell_type": "code",
   "execution_count": 131,
   "id": "71309df3",
   "metadata": {},
   "outputs": [
    {
     "data": {
      "text/html": [
       "<div>\n",
       "<style scoped>\n",
       "    .dataframe tbody tr th:only-of-type {\n",
       "        vertical-align: middle;\n",
       "    }\n",
       "\n",
       "    .dataframe tbody tr th {\n",
       "        vertical-align: top;\n",
       "    }\n",
       "\n",
       "    .dataframe thead th {\n",
       "        text-align: right;\n",
       "    }\n",
       "</style>\n",
       "<table border=\"1\" class=\"dataframe\">\n",
       "  <thead>\n",
       "    <tr style=\"text-align: right;\">\n",
       "      <th></th>\n",
       "      <th>date</th>\n",
       "      <th>continent</th>\n",
       "      <th>location</th>\n",
       "      <th>new_cases</th>\n",
       "    </tr>\n",
       "  </thead>\n",
       "  <tbody>\n",
       "    <tr>\n",
       "      <th>0</th>\n",
       "      <td>1662940800</td>\n",
       "      <td>Europe</td>\n",
       "      <td>Russia</td>\n",
       "      <td>52155.0</td>\n",
       "    </tr>\n",
       "  </tbody>\n",
       "</table>\n",
       "</div>"
      ],
      "text/plain": [
       "         date continent location  new_cases\n",
       "0  1662940800    Europe   Russia    52155.0"
      ]
     },
     "execution_count": 131,
     "metadata": {},
     "output_type": "execute_result"
    }
   ],
   "source": [
    "new_row_df = pedict_df\n",
    "new_row_df = new_row_df.join(pd.DataFrame(preds))\n",
    "new_row_df.rename(columns={0: 'new_cases'}, inplace=True)\n",
    "new_row_df"
   ]
  }
 ],
 "metadata": {
  "kernelspec": {
   "display_name": "Python 3 (ipykernel)",
   "language": "python",
   "name": "python3"
  },
  "language_info": {
   "codemirror_mode": {
    "name": "ipython",
    "version": 3
   },
   "file_extension": ".py",
   "mimetype": "text/x-python",
   "name": "python",
   "nbconvert_exporter": "python",
   "pygments_lexer": "ipython3",
   "version": "3.10.4"
  }
 },
 "nbformat": 4,
 "nbformat_minor": 5
}
